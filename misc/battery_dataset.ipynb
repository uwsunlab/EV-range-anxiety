{
 "cells": [
  {
   "cell_type": "code",
   "execution_count": 1,
   "metadata": {},
   "outputs": [],
   "source": [
    "import os\n",
    "import sys\n",
    "import pandas as pd\n",
    "from pathlib import Path"
   ]
  },
  {
   "cell_type": "code",
   "execution_count": 2,
   "metadata": {},
   "outputs": [],
   "source": [
    "sys.path.append(str(Path().resolve().parent))\n",
    "from path_manager import MISC_DIR, BATT_DATA_DIR, DATASET_DIR"
   ]
  },
  {
   "cell_type": "code",
   "execution_count": 3,
   "metadata": {},
   "outputs": [],
   "source": [
    "master_folder = DATASET_DIR / \"battery_data(processed)\" / \"train\""
   ]
  },
  {
   "cell_type": "markdown",
   "metadata": {},
   "source": [
    "Train files"
   ]
  },
  {
   "cell_type": "code",
   "execution_count": 4,
   "metadata": {},
   "outputs": [],
   "source": [
    "def for_separated(file_location, driver_type, batch_number, road_terrain, method_type, master_folder_path):\n",
    "    df= pd.read_csv(f'{file_location}')\n",
    "    dr1= df[df['Step Index']==6].reset_index(drop=True)\n",
    "    dr2= df[df['Step Index']==10].reset_index(drop=True)\n",
    "    dr3= df[df['Step Index']==14].reset_index(drop=True)\n",
    "    dr4= df[df['Step Index']==18].reset_index(drop=True)\n",
    "\n",
    "    folder_name = master_folder_path\n",
    "    os.makedirs(folder_name, exist_ok=True)\n",
    "    dr1.to_csv(f'{folder_name}/{batch_number}_{method_type}_{driver_type}_{road_terrain}_1.csv')\n",
    "    dr2.to_csv(f'{folder_name}/{batch_number}_{method_type}_{driver_type}_{road_terrain}_2.csv')\n",
    "    dr3.to_csv(f'{folder_name}/{batch_number}_{method_type}_{driver_type}_{road_terrain}_3.csv')\n",
    "    dr4.to_csv(f'{folder_name}/{batch_number}_{method_type}_{driver_type}_{road_terrain}_4.csv')\n",
    "    print(\"created all current profiles\")"
   ]
  },
  {
   "cell_type": "markdown",
   "metadata": {},
   "source": [
    "assertive"
   ]
  },
  {
   "cell_type": "code",
   "execution_count": 5,
   "metadata": {},
   "outputs": [
    {
     "name": "stdout",
     "output_type": "stream",
     "text": [
      "created all current profiles\n"
     ]
    }
   ],
   "source": [
    "for_separated(BATT_DATA_DIR/'train'/'method_1'/'assertive_batch1'/'asser1_down.CSV',\n",
    "              driver_type=\"assertive\",\n",
    "              batch_number=\"batch1\",\n",
    "              road_terrain=\"downhill\", method_type=\"method1\", master_folder_path=master_folder)"
   ]
  },
  {
   "cell_type": "code",
   "execution_count": 6,
   "metadata": {},
   "outputs": [
    {
     "name": "stdout",
     "output_type": "stream",
     "text": [
      "created all current profiles\n"
     ]
    }
   ],
   "source": [
    "for_separated(BATT_DATA_DIR/'train'/'method_1'/'assertive_batch2'/'asser2_down.CSV',\n",
    "              driver_type=\"assertive\",\n",
    "              batch_number=\"batch2\",\n",
    "              road_terrain=\"downhill\", method_type=\"method1\", master_folder_path=master_folder)"
   ]
  },
  {
   "cell_type": "code",
   "execution_count": 7,
   "metadata": {},
   "outputs": [
    {
     "name": "stdout",
     "output_type": "stream",
     "text": [
      "created all current profiles\n"
     ]
    }
   ],
   "source": [
    "for_separated(BATT_DATA_DIR/'train'/'method_1'/'assertive_batch1'/'asser1_flat.CSV',\n",
    "              driver_type=\"assertive\",\n",
    "              batch_number=\"batch1\",\n",
    "              road_terrain=\"flathill\", method_type=\"method1\", master_folder_path=master_folder)"
   ]
  },
  {
   "cell_type": "code",
   "execution_count": 8,
   "metadata": {},
   "outputs": [
    {
     "name": "stdout",
     "output_type": "stream",
     "text": [
      "created all current profiles\n"
     ]
    }
   ],
   "source": [
    "for_separated(BATT_DATA_DIR/'train'/'method_1'/'assertive_batch2'/'asser2_flat.CSV',\n",
    "              driver_type=\"assertive\",\n",
    "              batch_number=\"batch2\",\n",
    "              road_terrain=\"flathill\", method_type=\"method1\", master_folder_path=master_folder)"
   ]
  },
  {
   "cell_type": "code",
   "execution_count": 9,
   "metadata": {},
   "outputs": [
    {
     "name": "stdout",
     "output_type": "stream",
     "text": [
      "created all current profiles\n"
     ]
    }
   ],
   "source": [
    "for_separated(BATT_DATA_DIR/'train'/'method_1'/'assertive_batch1'/'asser1_up.CSV',\n",
    "              driver_type=\"assertive\",\n",
    "              batch_number=\"batch1\",\n",
    "              road_terrain=\"uphill\", method_type=\"method1\", master_folder_path=master_folder)"
   ]
  },
  {
   "cell_type": "code",
   "execution_count": 10,
   "metadata": {},
   "outputs": [
    {
     "name": "stdout",
     "output_type": "stream",
     "text": [
      "created all current profiles\n"
     ]
    }
   ],
   "source": [
    "for_separated(BATT_DATA_DIR/'train'/'method_1'/'assertive_batch2'/'asser2_up.CSV',\n",
    "              driver_type=\"assertive\",\n",
    "              batch_number=\"batch2\",\n",
    "              road_terrain=\"uphill\", method_type=\"method1\", master_folder_path=master_folder)"
   ]
  },
  {
   "cell_type": "markdown",
   "metadata": {},
   "source": [
    "Defensive"
   ]
  },
  {
   "cell_type": "code",
   "execution_count": 11,
   "metadata": {},
   "outputs": [
    {
     "name": "stdout",
     "output_type": "stream",
     "text": [
      "created all current profiles\n"
     ]
    }
   ],
   "source": [
    "for_separated(BATT_DATA_DIR/'train'/'method_1'/'defensive_batch1'/'def_1_down.CSV',\n",
    "              driver_type=\"defensive\",\n",
    "              batch_number=\"batch1\",\n",
    "              road_terrain=\"downhill\", method_type=\"method1\", master_folder_path=master_folder)"
   ]
  },
  {
   "cell_type": "code",
   "execution_count": 12,
   "metadata": {},
   "outputs": [
    {
     "name": "stdout",
     "output_type": "stream",
     "text": [
      "created all current profiles\n"
     ]
    }
   ],
   "source": [
    "for_separated(BATT_DATA_DIR/'train'/'method_1'/'defensive_batch2'/'def_2_down.CSV',\n",
    "              driver_type=\"defensive\",\n",
    "              batch_number=\"batch2\",\n",
    "              road_terrain=\"downhill\", method_type=\"method1\", master_folder_path=master_folder)"
   ]
  },
  {
   "cell_type": "code",
   "execution_count": 13,
   "metadata": {},
   "outputs": [
    {
     "name": "stdout",
     "output_type": "stream",
     "text": [
      "created all current profiles\n"
     ]
    }
   ],
   "source": [
    "for_separated(BATT_DATA_DIR/'train'/'method_1'/'defensive_batch1'/'def_1_flat.CSV',\n",
    "              driver_type=\"defensive\",\n",
    "              batch_number=\"batch1\",\n",
    "              road_terrain=\"flathill\", method_type=\"method1\", master_folder_path=master_folder)"
   ]
  },
  {
   "cell_type": "code",
   "execution_count": 14,
   "metadata": {},
   "outputs": [
    {
     "name": "stdout",
     "output_type": "stream",
     "text": [
      "created all current profiles\n"
     ]
    }
   ],
   "source": [
    "for_separated(BATT_DATA_DIR/'train'/'method_1'/'defensive_batch2'/'def_2_flat.CSV',\n",
    "              driver_type=\"defensive\",\n",
    "              batch_number=\"batch2\",\n",
    "              road_terrain=\"flathill\", method_type=\"method1\", master_folder_path=master_folder)"
   ]
  },
  {
   "cell_type": "code",
   "execution_count": 15,
   "metadata": {},
   "outputs": [
    {
     "name": "stdout",
     "output_type": "stream",
     "text": [
      "created all current profiles\n"
     ]
    }
   ],
   "source": [
    "for_separated(BATT_DATA_DIR/'train'/'method_1'/'defensive_batch1'/'def_1_up.CSV',\n",
    "              driver_type=\"defensive\",\n",
    "              batch_number=\"batch1\",\n",
    "              road_terrain=\"uphill\", method_type=\"method1\", master_folder_path=master_folder)"
   ]
  },
  {
   "cell_type": "code",
   "execution_count": 16,
   "metadata": {},
   "outputs": [
    {
     "name": "stdout",
     "output_type": "stream",
     "text": [
      "created all current profiles\n"
     ]
    }
   ],
   "source": [
    "for_separated(BATT_DATA_DIR/'train'/'method_1'/'defensive_batch2'/'def_2_up.CSV',\n",
    "              driver_type=\"defensive\",\n",
    "              batch_number=\"batch2\",\n",
    "              road_terrain=\"uphill\", method_type=\"method1\", master_folder_path=master_folder)"
   ]
  },
  {
   "cell_type": "markdown",
   "metadata": {},
   "source": []
  },
  {
   "cell_type": "markdown",
   "metadata": {},
   "source": []
  },
  {
   "cell_type": "code",
   "execution_count": 17,
   "metadata": {},
   "outputs": [],
   "source": [
    "def for_all_together(file_location, driver_type, batch_number, road_terrain, method_type, master_folder_path):\n",
    "    df= pd.read_csv(f'{file_location}')\n",
    "    dr1= df[df['Step Index']==6].reset_index(drop=True)\n",
    "    dr2= df[df['Step Index']==7].reset_index(drop=True)\n",
    "    dr3= df[df['Step Index']==8].reset_index(drop=True)\n",
    "    dr4= df[df['Step Index']==9].reset_index(drop=True)\n",
    "\n",
    "    folder_name = master_folder_path\n",
    "    os.makedirs(folder_name, exist_ok=True)\n",
    "    \n",
    "    dr1.to_csv(f'{folder_name}/{batch_number}_{method_type}_{driver_type}_{road_terrain}_1.csv')\n",
    "    dr2.to_csv(f'{folder_name}/{batch_number}_{method_type}_{driver_type}_{road_terrain}_2.csv')\n",
    "    dr3.to_csv(f'{folder_name}/{batch_number}_{method_type}_{driver_type}_{road_terrain}_3.csv')\n",
    "    dr4.to_csv(f'{folder_name}/{batch_number}_{method_type}_{driver_type}_{road_terrain}_4.csv')\n",
    "    print(\"created all current profiles\")"
   ]
  },
  {
   "cell_type": "code",
   "execution_count": 18,
   "metadata": {},
   "outputs": [
    {
     "name": "stdout",
     "output_type": "stream",
     "text": [
      "created all current profiles\n"
     ]
    }
   ],
   "source": [
    "for_all_together(BATT_DATA_DIR/'train'/'method_2'/'assertive_batch1'/'asser1_down_all.CSV',\n",
    "              driver_type=\"assertive\",\n",
    "              batch_number=\"batch1\",\n",
    "              road_terrain=\"downhill\", method_type=\"method2\", master_folder_path=master_folder)"
   ]
  },
  {
   "cell_type": "code",
   "execution_count": 19,
   "metadata": {},
   "outputs": [
    {
     "name": "stdout",
     "output_type": "stream",
     "text": [
      "created all current profiles\n"
     ]
    }
   ],
   "source": [
    "for_all_together(BATT_DATA_DIR/'train'/'method_2'/'assertive_batch2'/'asser2_down_all.CSV',\n",
    "              driver_type=\"assertive\",\n",
    "              batch_number=\"batch2\",\n",
    "              road_terrain=\"downhill\", method_type=\"method2\", master_folder_path=master_folder)"
   ]
  },
  {
   "cell_type": "code",
   "execution_count": 20,
   "metadata": {},
   "outputs": [
    {
     "name": "stdout",
     "output_type": "stream",
     "text": [
      "created all current profiles\n"
     ]
    }
   ],
   "source": [
    "for_all_together(BATT_DATA_DIR/'train'/'method_2'/'assertive_batch1'/'asser1_flat_all.CSV',\n",
    "              driver_type=\"assertive\",\n",
    "              batch_number=\"batch1\",\n",
    "              road_terrain=\"flathill\", method_type=\"method2\", master_folder_path=master_folder)"
   ]
  },
  {
   "cell_type": "code",
   "execution_count": 21,
   "metadata": {},
   "outputs": [
    {
     "name": "stdout",
     "output_type": "stream",
     "text": [
      "created all current profiles\n"
     ]
    }
   ],
   "source": [
    "for_all_together(BATT_DATA_DIR/'train'/'method_2'/'assertive_batch2'/'asser2_flat_all.CSV',\n",
    "              driver_type=\"assertive\",\n",
    "              batch_number=\"batch2\",\n",
    "              road_terrain=\"flathill\", method_type=\"method2\", master_folder_path=master_folder)"
   ]
  },
  {
   "cell_type": "code",
   "execution_count": 22,
   "metadata": {},
   "outputs": [
    {
     "name": "stdout",
     "output_type": "stream",
     "text": [
      "created all current profiles\n"
     ]
    }
   ],
   "source": [
    "for_all_together(BATT_DATA_DIR/'train'/'method_2'/'assertive_batch1'/'asser1_up_all.CSV',\n",
    "              driver_type=\"assertive\",\n",
    "              batch_number=\"batch1\",\n",
    "              road_terrain=\"uphill\", method_type=\"method2\", master_folder_path=master_folder)"
   ]
  },
  {
   "cell_type": "code",
   "execution_count": 23,
   "metadata": {},
   "outputs": [
    {
     "name": "stdout",
     "output_type": "stream",
     "text": [
      "created all current profiles\n"
     ]
    }
   ],
   "source": [
    "for_all_together(BATT_DATA_DIR/'train'/'method_2'/'assertive_batch2'/'asser2_up_all.CSV',\n",
    "              driver_type=\"assertive\",\n",
    "              batch_number=\"batch2\",\n",
    "              road_terrain=\"uphill\", method_type=\"method2\", master_folder_path=master_folder)"
   ]
  },
  {
   "cell_type": "markdown",
   "metadata": {},
   "source": []
  },
  {
   "cell_type": "markdown",
   "metadata": {},
   "source": []
  },
  {
   "cell_type": "code",
   "execution_count": 24,
   "metadata": {},
   "outputs": [
    {
     "name": "stdout",
     "output_type": "stream",
     "text": [
      "created all current profiles\n"
     ]
    }
   ],
   "source": [
    "for_all_together(BATT_DATA_DIR/'train'/'method_2'/'defensive_batch1'/'def1_down_all.CSV',\n",
    "              driver_type=\"defensive\",\n",
    "              batch_number=\"batch1\",\n",
    "              road_terrain=\"downhill\", method_type=\"method2\", master_folder_path=master_folder)"
   ]
  },
  {
   "cell_type": "code",
   "execution_count": 25,
   "metadata": {},
   "outputs": [
    {
     "name": "stdout",
     "output_type": "stream",
     "text": [
      "created all current profiles\n"
     ]
    }
   ],
   "source": [
    "for_all_together(BATT_DATA_DIR/'train'/'method_2'/'defensive_batch2'/'def2_down_all.CSV',\n",
    "              driver_type=\"defensive\",\n",
    "              batch_number=\"batch2\",\n",
    "              road_terrain=\"downhill\", method_type=\"method2\", master_folder_path=master_folder)"
   ]
  },
  {
   "cell_type": "code",
   "execution_count": 26,
   "metadata": {},
   "outputs": [
    {
     "name": "stdout",
     "output_type": "stream",
     "text": [
      "created all current profiles\n"
     ]
    }
   ],
   "source": [
    "for_all_together(BATT_DATA_DIR/'train'/'method_2'/'defensive_batch1'/'def1_flat_all.CSV',\n",
    "              driver_type=\"defensive\",\n",
    "              batch_number=\"batch1\",\n",
    "              road_terrain=\"flathill\", method_type=\"method2\", master_folder_path=master_folder)"
   ]
  },
  {
   "cell_type": "code",
   "execution_count": 27,
   "metadata": {},
   "outputs": [
    {
     "name": "stdout",
     "output_type": "stream",
     "text": [
      "created all current profiles\n"
     ]
    }
   ],
   "source": [
    "for_all_together(BATT_DATA_DIR/'train'/'method_2'/'defensive_batch2'/'def2_flat_all.CSV',\n",
    "              driver_type=\"defensive\",\n",
    "              batch_number=\"batch2\",\n",
    "              road_terrain=\"flathill\", method_type=\"method2\", master_folder_path=master_folder)"
   ]
  },
  {
   "cell_type": "code",
   "execution_count": 28,
   "metadata": {},
   "outputs": [
    {
     "name": "stdout",
     "output_type": "stream",
     "text": [
      "created all current profiles\n"
     ]
    }
   ],
   "source": [
    "for_all_together(BATT_DATA_DIR/'train'/'method_2'/'defensive_batch1'/'def1_up_all.CSV',\n",
    "              driver_type=\"defensive\",\n",
    "              batch_number=\"batch1\",\n",
    "              road_terrain=\"uphill\", method_type=\"method2\", master_folder_path=master_folder)"
   ]
  },
  {
   "cell_type": "code",
   "execution_count": 29,
   "metadata": {},
   "outputs": [
    {
     "name": "stdout",
     "output_type": "stream",
     "text": [
      "created all current profiles\n"
     ]
    }
   ],
   "source": [
    "for_all_together(BATT_DATA_DIR/'train'/'method_2'/'defensive_batch2'/'def2_up_all.CSV',\n",
    "              driver_type=\"defensive\",\n",
    "              batch_number=\"batch2\",\n",
    "              road_terrain=\"uphill\", method_type=\"method2\", master_folder_path=master_folder)"
   ]
  },
  {
   "cell_type": "code",
   "execution_count": 30,
   "metadata": {},
   "outputs": [],
   "source": [
    "def for_replaced_separated(file_location, driver_type, batch_number, method_type, master_folder_path):\n",
    "    df= pd.read_csv(f'{file_location}')\n",
    "    dr1= df[df['Step Index']==6].reset_index(drop=True)\n",
    "    dr2= df[df['Step Index']==10].reset_index(drop=True)\n",
    "    dr3= df[df['Step Index']==14].reset_index(drop=True)\n",
    "\n",
    "    folder_name=master_folder_path\n",
    "    os.makedirs(folder_name, exist_ok=True)\n",
    "\n",
    "    dr1.to_csv(f'{folder_name}/{batch_number}_{method_type}_{driver_type}_uphill_1_retest.csv')\n",
    "    dr2.to_csv(f'{folder_name}/{batch_number}_{method_type}_{driver_type}_downhill_1_retest.csv')\n",
    "    dr3.to_csv(f'{folder_name}/{batch_number}_{method_type}_{driver_type}_flathill_1_retest.csv')"
   ]
  },
  {
   "cell_type": "code",
   "execution_count": 31,
   "metadata": {},
   "outputs": [],
   "source": [
    "for_replaced_separated(BATT_DATA_DIR/'train'/'method_1'/'restest_method1.CSV',\n",
    "              driver_type=\"assertive\",\n",
    "              batch_number=\"batch1\",\n",
    "             method_type=\"method1\", master_folder_path=master_folder)"
   ]
  },
  {
   "cell_type": "code",
   "execution_count": 32,
   "metadata": {},
   "outputs": [],
   "source": [
    "def for_replaced_all_together(file_location, driver_type, batch_number, method_type, master_folder_path):\n",
    "    df= pd.read_csv(f'{file_location}')\n",
    "    dr1= df[df['Step Index']==6].reset_index(drop=True)\n",
    "    dr2= df[df['Step Index']==7].reset_index(drop=True)\n",
    "    dr3= df[df['Step Index']==8].reset_index(drop=True)\n",
    "\n",
    "    folder_name=master_folder_path\n",
    "    os.makedirs(folder_name, exist_ok=True)\n",
    "\n",
    "    dr1.to_csv(f'{folder_name}/{batch_number}_{method_type}_{driver_type}_uphill_1_retest.csv')\n",
    "    dr2.to_csv(f'{folder_name}/{batch_number}_{method_type}_{driver_type}_downhill_1_retest.csv')\n",
    "    dr3.to_csv(f'{folder_name}/{batch_number}_{method_type}_{driver_type}_flathill_1_retest.csv')"
   ]
  },
  {
   "cell_type": "code",
   "execution_count": 33,
   "metadata": {},
   "outputs": [],
   "source": [
    "for_replaced_all_together(BATT_DATA_DIR/'train'/'method_2'/'restest_method2.CSV',\n",
    "              driver_type=\"assertive\",\n",
    "              batch_number=\"batch1\",\n",
    "             method_type=\"method2\", master_folder_path=master_folder)"
   ]
  },
  {
   "cell_type": "markdown",
   "metadata": {},
   "source": []
  },
  {
   "cell_type": "markdown",
   "metadata": {},
   "source": [
    "Test files"
   ]
  },
  {
   "cell_type": "code",
   "execution_count": 34,
   "metadata": {},
   "outputs": [],
   "source": [
    "test_master_folder_path = DATASET_DIR /\"battery_data(processed)\"/'test'"
   ]
  },
  {
   "cell_type": "code",
   "execution_count": 35,
   "metadata": {},
   "outputs": [],
   "source": [
    "def for_test(file_location, driver_type, road_terrain, test_master_folder_path):\n",
    "    df= pd.read_csv(f'{file_location}')\n",
    "    dr1= df[df['Step Index']==6].reset_index(drop=True)\n",
    "    dr2= df[df['Step Index']==7].reset_index(drop=True)\n",
    "    dr3= dr1[dr1['Step Time (s)']<902].reset_index(drop=True)\n",
    "\n",
    "    folder_name = test_master_folder_path\n",
    "    os.makedirs(folder_name, exist_ok=True)\n",
    "    dr2.to_csv(f'{folder_name}/{driver_type}_{road_terrain}_1.csv')\n",
    "    dr3.to_csv(f'{folder_name}/{driver_type}_{road_terrain}_2.csv')\n",
    "    print(\"created all current profiles\")"
   ]
  },
  {
   "cell_type": "code",
   "execution_count": 36,
   "metadata": {},
   "outputs": [
    {
     "name": "stdout",
     "output_type": "stream",
     "text": [
      "created all current profiles\n"
     ]
    }
   ],
   "source": [
    "for_test(BATT_DATA_DIR/'test'/'asser_down_test.CSV',\n",
    "         driver_type='assertive',\n",
    "         road_terrain='downhill',\n",
    "         test_master_folder_path = test_master_folder_path)"
   ]
  },
  {
   "cell_type": "code",
   "execution_count": 37,
   "metadata": {},
   "outputs": [
    {
     "name": "stdout",
     "output_type": "stream",
     "text": [
      "created all current profiles\n"
     ]
    }
   ],
   "source": [
    "for_test(BATT_DATA_DIR/'test'/'asser_flat_test.CSV',\n",
    "         driver_type='assertive',\n",
    "         road_terrain='flathill',\n",
    "         test_master_folder_path = test_master_folder_path)"
   ]
  },
  {
   "cell_type": "code",
   "execution_count": 38,
   "metadata": {},
   "outputs": [
    {
     "name": "stdout",
     "output_type": "stream",
     "text": [
      "created all current profiles\n"
     ]
    }
   ],
   "source": [
    "for_test(BATT_DATA_DIR/'test'/'asser_up_test.CSV',\n",
    "         driver_type='assertive',\n",
    "         road_terrain='uphill',\n",
    "         test_master_folder_path = test_master_folder_path)"
   ]
  },
  {
   "cell_type": "code",
   "execution_count": 39,
   "metadata": {},
   "outputs": [
    {
     "name": "stdout",
     "output_type": "stream",
     "text": [
      "created all current profiles\n"
     ]
    }
   ],
   "source": [
    "for_test(BATT_DATA_DIR/'test'/'def_down_test.CSV',\n",
    "         driver_type='defensive',\n",
    "         road_terrain='downhill',\n",
    "         test_master_folder_path = test_master_folder_path)"
   ]
  },
  {
   "cell_type": "code",
   "execution_count": 40,
   "metadata": {},
   "outputs": [
    {
     "name": "stdout",
     "output_type": "stream",
     "text": [
      "created all current profiles\n"
     ]
    }
   ],
   "source": [
    "for_test(BATT_DATA_DIR/'test'/'def_flat_test.CSV',\n",
    "         driver_type='defensive',\n",
    "         road_terrain='flathill',\n",
    "         test_master_folder_path = test_master_folder_path)"
   ]
  },
  {
   "cell_type": "code",
   "execution_count": 41,
   "metadata": {},
   "outputs": [
    {
     "name": "stdout",
     "output_type": "stream",
     "text": [
      "created all current profiles\n"
     ]
    }
   ],
   "source": [
    "for_test(BATT_DATA_DIR/'test'/'def_up_test.CSV',\n",
    "         driver_type='defensive',\n",
    "         road_terrain='uphill',\n",
    "         test_master_folder_path = test_master_folder_path)"
   ]
  },
  {
   "cell_type": "markdown",
   "metadata": {},
   "source": []
  },
  {
   "cell_type": "markdown",
   "metadata": {},
   "source": [
    "Reference files"
   ]
  },
  {
   "cell_type": "code",
   "execution_count": 42,
   "metadata": {},
   "outputs": [],
   "source": [
    "def dataframe_gen(df):\n",
    "    dr_up= df[df['Step Index']==6].reset_index(drop=True)\n",
    "    dr_down= df[df['Step Index']==10].reset_index(drop=True)\n",
    "    dr_flat= df[df['Step Index']==14].reset_index(drop=True)\n",
    "    return dr_up, dr_down, dr_flat"
   ]
  },
  {
   "cell_type": "code",
   "execution_count": 43,
   "metadata": {},
   "outputs": [],
   "source": [
    "ref_master_folder_path = DATASET_DIR / \"battery_data(processed)\" / 'reference'"
   ]
  },
  {
   "cell_type": "code",
   "execution_count": 44,
   "metadata": {},
   "outputs": [],
   "source": [
    "def for_ref(file_location, trip_type, ref_master_folder_path):\n",
    "    df= pd.read_csv(f'{file_location}')\n",
    "    dr1= df[df['Step Index']==6].reset_index(drop=True)\n",
    "    dr2= df[df['Step Index']==10].reset_index(drop=True)\n",
    "    dr3= df[df['Step Index']==14].reset_index(drop=True)\n",
    "\n",
    "    folder_name = ref_master_folder_path\n",
    "    os.makedirs(folder_name, exist_ok=True)\n",
    "    dr1.to_csv(f'{folder_name}/{trip_type}_uphill.csv')\n",
    "    dr2.to_csv(f'{folder_name}/{trip_type}_downhill.csv')\n",
    "    dr3.to_csv(f'{folder_name}/{trip_type}_flathill.csv')\n",
    "    print(\"created all current profiles\")"
   ]
  },
  {
   "cell_type": "code",
   "execution_count": 45,
   "metadata": {},
   "outputs": [
    {
     "name": "stdout",
     "output_type": "stream",
     "text": [
      "created all current profiles\n"
     ]
    }
   ],
   "source": [
    "for_ref(BATT_DATA_DIR/'reference'/'brake_once.CSV',\n",
    "        trip_type='brake_once',\n",
    "        ref_master_folder_path=ref_master_folder_path)"
   ]
  },
  {
   "cell_type": "code",
   "execution_count": 46,
   "metadata": {},
   "outputs": [
    {
     "name": "stdout",
     "output_type": "stream",
     "text": [
      "created all current profiles\n"
     ]
    }
   ],
   "source": [
    "for_ref(BATT_DATA_DIR/'reference'/'cons_max_vel.CSV',\n",
    "        trip_type='constant_max_velocity',\n",
    "        ref_master_folder_path=ref_master_folder_path)"
   ]
  },
  {
   "cell_type": "code",
   "execution_count": 47,
   "metadata": {},
   "outputs": [
    {
     "name": "stdout",
     "output_type": "stream",
     "text": [
      "created all current profiles\n"
     ]
    }
   ],
   "source": [
    "for_ref(BATT_DATA_DIR/'reference'/'cons_mean_vel.CSV',\n",
    "        trip_type='constant_mean_velocity',\n",
    "        ref_master_folder_path=ref_master_folder_path)"
   ]
  }
 ],
 "metadata": {
  "kernelspec": {
   "display_name": "ev-range-anxiety-RrTLfGNy-py3.11",
   "language": "python",
   "name": "python3"
  },
  "language_info": {
   "codemirror_mode": {
    "name": "ipython",
    "version": 3
   },
   "file_extension": ".py",
   "mimetype": "text/x-python",
   "name": "python",
   "nbconvert_exporter": "python",
   "pygments_lexer": "ipython3",
   "version": "3.11.6"
  }
 },
 "nbformat": 4,
 "nbformat_minor": 2
}
