{
 "cells": [
  {
   "cell_type": "code",
   "execution_count": 1,
   "id": "4e65fc77",
   "metadata": {},
   "outputs": [],
   "source": [
    "import numpy as np\n",
    "import matplotlib.pyplot as plt\n",
    "from scipy.interpolate import interp1d"
   ]
  },
  {
   "cell_type": "code",
   "execution_count": 2,
   "id": "6bcd7494-484f-459e-8973-cac77915c7a3",
   "metadata": {},
   "outputs": [
    {
     "ename": "ValueError",
     "evalue": "could not broadcast input array from shape (300,) into shape (500,)",
     "output_type": "error",
     "traceback": [
      "\u001b[0;31m---------------------------------------------------------------------------\u001b[0m",
      "\u001b[0;31mValueError\u001b[0m                                Traceback (most recent call last)",
      "Cell \u001b[0;32mIn[2], line 8\u001b[0m\n\u001b[1;32m      6\u001b[0m time_extended \u001b[38;5;241m=\u001b[39m np\u001b[38;5;241m.\u001b[39mlinspace(\u001b[38;5;241m0\u001b[39m, \u001b[38;5;241m800\u001b[39m, num\u001b[38;5;241m=\u001b[39m\u001b[38;5;241m800\u001b[39m)\n\u001b[1;32m      7\u001b[0m velocity_extended \u001b[38;5;241m=\u001b[39m np\u001b[38;5;241m.\u001b[39mzeros(time_extended\u001b[38;5;241m.\u001b[39mshape)\n\u001b[0;32m----> 8\u001b[0m \u001b[43mvelocity_extended\u001b[49m\u001b[43m[\u001b[49m\u001b[43m:\u001b[49m\u001b[38;5;241;43m500\u001b[39;49m\u001b[43m]\u001b[49m \u001b[38;5;241m=\u001b[39m interpolation_velocity\n\u001b[1;32m      9\u001b[0m velocity_extended[\u001b[38;5;241m300\u001b[39m:] \u001b[38;5;241m=\u001b[39m interp_func(time_extended[\u001b[38;5;241m300\u001b[39m:] \u001b[38;5;241m-\u001b[39m \u001b[38;5;241m10\u001b[39m) \n\u001b[1;32m     10\u001b[0m plt\u001b[38;5;241m.\u001b[39mfigure(figsize\u001b[38;5;241m=\u001b[39m(\u001b[38;5;241m10\u001b[39m, \u001b[38;5;241m5\u001b[39m))\n",
      "\u001b[0;31mValueError\u001b[0m: could not broadcast input array from shape (300,) into shape (500,)"
     ]
    }
   ],
   "source": [
    "time_original = np.linspace(0, 500, num=500)\n",
    "velocity_original = np.full(500, 33.89)\n",
    "interpolation_time = np.linspace(0, 300, num=300)\n",
    "interpolation_velocity = np.linspace(0, velocity_original[0], num=300)\n",
    "interp_func = interp1d(time_original, velocity_original, kind='linear', fill_value=\"extrapolate\")\n",
    "time_extended = np.linspace(0, 800, num=800)\n",
    "velocity_extended = np.zeros(time_extended.shape)\n",
    "velocity_extended[:500] = interpolation_velocity\n",
    "velocity_extended[300:] = interp_func(time_extended[300:] - 10) \n",
    "plt.figure(figsize=(10, 5))\n",
    "plt.plot(time_original, velocity_original, 'o', label='Original Data')\n",
    "plt.plot(time_extended, velocity_extended, '-', label='Extended Data')\n",
    "plt.xlabel('Time (seconds)')\n",
    "plt.ylabel('Velocity')\n",
    "plt.legend()\n",
    "plt.show()"
   ]
  }
 ],
 "metadata": {
  "kernelspec": {
   "display_name": "Python 3",
   "language": "python",
   "name": "python3"
  },
  "language_info": {
   "codemirror_mode": {
    "name": "ipython",
    "version": 3
   },
   "file_extension": ".py",
   "mimetype": "text/x-python",
   "name": "python",
   "nbconvert_exporter": "python",
   "pygments_lexer": "ipython3",
   "version": "3.11.4"
  }
 },
 "nbformat": 4,
 "nbformat_minor": 5
}
