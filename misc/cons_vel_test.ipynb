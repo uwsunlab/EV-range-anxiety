{
 "cells": [
  {
   "cell_type": "code",
   "execution_count": null,
   "id": "6bcd7494-484f-459e-8973-cac77915c7a3",
   "metadata": {},
   "outputs": [],
   "source": [
    "import numpy as np\n",
    "import matplotlib.pyplot as plt\n",
    "from scipy.interpolate import interp1d\n",
    "\n",
    "# Sample data: Replace these with your actual velocity and time data\n",
    "time_original = np.linspace(0, 500, num=500)  # 500 seconds sampled at 1 second intervals\n",
    "velocity_original = np.full(500, 33.89)   # Max velocity\n",
    "\n",
    "# Interpolation period for the initial ramp-up (e.g., 10 seconds)\n",
    "interpolation_time = np.linspace(0, 300, num=300)  # 10 seconds\n",
    "\n",
    "# Interpolate velocity from 0 to the first recorded velocity\n",
    "interpolation_velocity = np.linspace(0, velocity_original[0], num=300)\n",
    "\n",
    "# Create an interpolation function for the original data\n",
    "interp_func = interp1d(time_original, velocity_original, kind='linear', fill_value=\"extrapolate\")\n",
    "\n",
    "# Time profile for the next 5 minutes (600 seconds total)\n",
    "time_extended = np.linspace(0, 800, num=800)\n",
    "\n",
    "# Initialize the extended velocity array\n",
    "velocity_extended = np.zeros(time_extended.shape)\n",
    "\n",
    "# Fill the initial part with interpolated velocity\n",
    "velocity_extended[:500] = interpolation_velocity\n",
    "\n",
    "# Use the interpolation function for the remaining time\n",
    "velocity_extended[300:] = interp_func(time_extended[300:] - 10)  # Shift time by 10 seconds\n",
    "\n",
    "# Plotting the results for visualization\n",
    "plt.figure(figsize=(10, 5))\n",
    "plt.plot(time_original, velocity_original, 'o', label='Original Data')\n",
    "plt.plot(time_extended, velocity_extended, '-', label='Extended Data')\n",
    "plt.xlabel('Time (seconds)')\n",
    "plt.ylabel('Velocity')\n",
    "plt.legend()\n",
    "plt.show()\n"
   ]
  }
 ],
 "metadata": {
  "kernelspec": {
   "display_name": "Python 3 (ipykernel)",
   "language": "python",
   "name": "python3"
  },
  "language_info": {
   "codemirror_mode": {
    "name": "ipython",
    "version": 3
   },
   "file_extension": ".py",
   "mimetype": "text/x-python",
   "name": "python",
   "nbconvert_exporter": "python",
   "pygments_lexer": "ipython3",
   "version": "3.11.7"
  }
 },
 "nbformat": 4,
 "nbformat_minor": 5
}
